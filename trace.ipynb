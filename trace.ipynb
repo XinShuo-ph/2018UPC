{
 "cells": [
  {
   "cell_type": "code",
   "execution_count": 125,
   "metadata": {},
   "outputs": [],
   "source": [
    "import numpy as np\n",
    "import mylib \n",
    "from scipy.integrate import odeint\n",
    "mylib.sail_mass=0.01\n",
    "mylib.alpha=0\n",
    "mylib.sigp=1.25+1e-4"
   ]
  },
  {
   "cell_type": "code",
   "execution_count": 126,
   "metadata": {},
   "outputs": [
    {
     "name": "stdout",
     "output_type": "stream",
     "text": [
      "0.01\n",
      "0\n",
      "1.2501\n"
     ]
    }
   ],
   "source": [
    "print(mylib.sail_mass)\n",
    "print(mylib.alpha)\n",
    "print(mylib.sigp)"
   ]
  },
  {
   "cell_type": "code",
   "execution_count": 127,
   "metadata": {
    "collapsed": true
   },
   "outputs": [],
   "source": [
    "a1 = 1.0 / 4.0;\n",
    "b1 = 3.0 / 32.0;\n",
    "b2 = 9.0 / 32.0;\n",
    "c1 = 1932.0 / 2197.0;\n",
    "c2 = -7200.0 / 2197.0;\n",
    "c3 = 7296.0 / 2197.0;\n",
    "d1 = 439.0 / 216.0;\n",
    "d2 = -8.0;\n",
    "d3 = 3680.0 / 513.0;\n",
    "d4 = -845.0 / 4104.0;\n",
    "e1 = -8.0 / 27.0;\n",
    "e2 = 2.0;\n",
    "e3 = -3544.0 / 2565.0;\n",
    "e4 = 1859.0 / 4104.0;\n",
    "e5 = -11.0 / 40.0;\n",
    "x1 = 25.0 / 216.0;\n",
    "x2 = 0.0;\n",
    "x3 = 1408.0 / 2565.0;\n",
    "x4 = 2197.0 / 4104.0;\n",
    "x5 = -1.0 / 5.0;\n",
    "z1 = 16.0 / 135.0;\n",
    "z2 = 0.0;\n",
    "z3 = 6656.0 / 12825.0;\n",
    "z4 = 28561.0 / 56430.0;\n",
    "z5 = -9.0 / 50.0;\n",
    "z6 = 2.0 / 55.0;"
   ]
  },
  {
   "cell_type": "code",
   "execution_count": 128,
   "metadata": {
    "collapsed": true
   },
   "outputs": [],
   "source": [
    "var0=[0.,0,0.,0.,0.,1.]"
   ]
  },
  {
   "cell_type": "code",
   "execution_count": 129,
   "metadata": {},
   "outputs": [
    {
     "data": {
      "text/plain": [
       "array([   0.        ,    0.        ,    1.        ,    0.        ,\n",
       "          0.        ,  758.76795413])"
      ]
     },
     "execution_count": 129,
     "metadata": {},
     "output_type": "execute_result"
    }
   ],
   "source": [
    "h=1e-1\n",
    "errmax=1e-1\n",
    "errmin=1e-2\n",
    "var=var0\n",
    "t=0\n",
    "mytime=[]\n",
    "myvar=[]\n",
    "mylib.equation(var0,0)"
   ]
  },
  {
   "cell_type": "code",
   "execution_count": 130,
   "metadata": {},
   "outputs": [
    {
     "name": "stdout",
     "output_type": "stream",
     "text": [
      "0.01\n",
      "0.01\n",
      "4.4408920985e-16\n",
      "0.01\n",
      "0.01\n",
      "1.42108547152e-14\n",
      "[0, 0.1, array([  0.        ,   0.        ,   3.89383977,   0.        ,\n",
      "         0.        ,  76.87679541])]\n",
      "0.01\n",
      "0.01\n",
      "0.0\n",
      "0.01\n",
      "0.01\n",
      "2.84217094304e-14\n",
      "[1, 0.30000000000000004, array([   0.        ,    0.        ,   34.44455794,    0.        ,\n",
      "          0.        ,  228.63038624])]\n",
      "0.01\n",
      "0.01\n",
      "0.0\n",
      "0.01\n",
      "0.01\n",
      "0.0\n",
      "[2, 0.7000000000000001, array([   0.        ,    0.        ,  186.59814876,    0.        ,\n",
      "          0.        ,  532.13756789])]\n",
      "0.01\n",
      "0.01\n",
      "2.27373675443e-13\n",
      "0.01\n",
      "0.01\n",
      "0.0\n",
      "[3, 1.5, array([    0.        ,     0.        ,   855.11394839,     0.        ,\n",
      "           0.        ,  1139.15193119])]\n",
      "0.01\n",
      "0.01\n",
      "9.09494701773e-13\n",
      "0.01\n",
      "0.01\n",
      "0.0\n",
      "[4, 3.1, array([    0.        ,     0.        ,  3648.98001954,     0.        ,\n",
      "           0.        ,  2353.1806578 ])]\n",
      "0.01\n",
      "0.01\n",
      "1.20750355825e-16\n",
      "0.01\n",
      "0.01\n",
      "1.90221587098e-16\n",
      "[5, 6.300000000000001, array([     0.        ,      0.        ,  15064.05004874,      0.        ,\n",
      "            0.        ,   4781.23811101])]\n",
      "0.01\n",
      "0.01\n",
      "3.5664394994e-16\n",
      "0.01\n",
      "0.01\n",
      "0.0\n",
      "[6, 12.700000000000001, array([     0.        ,      0.        ,  61203.54164497,      0.        ,\n",
      "            0.        ,   9637.35301744])]\n",
      "0.01\n",
      "0.01\n",
      "1.17963029411e-16\n",
      "0.01\n",
      "0.01\n",
      "1.88013294085e-16\n",
      "[7, 25.5, array([      0.        ,       0.        ,  246719.93082971,\n",
      "             0.        ,       0.        ,   19349.5828303 ])]\n",
      "0.01\n",
      "0.01\n",
      "1.17507871163e-16\n",
      "0.01\n",
      "0.01\n",
      "1.87650220439e-16\n",
      "[8, 51.1, array([      0.        ,       0.        ,  990702.33061369,\n",
      "             0.        ,       0.        ,   38774.04245601])]\n",
      "0.01\n",
      "0.01\n",
      "1.17281280627e-16\n",
      "0.01\n",
      "0.01\n",
      "0.0\n",
      "[9, 102.30000000000001, array([       0.        ,        0.        ,  3970465.57488143,\n",
      "              0.        ,        0.        ,    77622.96170743])]\n",
      "0.01\n",
      "0.01\n",
      "1.17168236226e-16\n",
      "0.01\n",
      "0.01\n",
      "1.87378834112e-16\n",
      "[10, 204.70000000000002, array([        0.        ,         0.        ,  15897185.18620924,\n",
      "               0.        ,         0.        ,    155320.80021028])]\n",
      "0.01\n",
      "0.01\n",
      "0.0\n",
      "0.01\n",
      "0.01\n",
      "0.0\n",
      "[11, 409.5, array([        0.        ,         0.        ,  63619386.39851514,\n",
      "               0.        ,         0.        ,    310716.47721597])]\n",
      "0.01\n",
      "0.01\n",
      "1.63917142938e-15\n",
      "0.01\n",
      "0.01\n",
      "1.87311110138e-16\n",
      "[12, 819.1, array([  0.00000000e+00,   0.00000000e+00,   2.54538669e+08,\n",
      "         0.00000000e+00,   0.00000000e+00,   6.21507831e+05])]\n",
      "0.01\n",
      "0.01\n",
      "2.14238001058e-14\n",
      "0.01\n",
      "0.01\n",
      "1.87299827569e-16\n",
      "[13, 1638.3000000000002, array([  0.00000000e+00,   0.00000000e+00,   1.01827406e+09,\n",
      "         0.00000000e+00,   0.00000000e+00,   1.24309054e+06])]\n",
      "0.01\n",
      "0.01\n",
      "3.45808244461e-13\n",
      "0.01\n",
      "0.01\n",
      "0.0\n",
      "[14, 3276.7000000000003, array([  0.00000000e+00,   0.00000000e+00,   4.07328914e+09,\n",
      "         0.00000000e+00,   0.00000000e+00,   2.48625596e+06])]\n",
      "0.01\n",
      "0.01\n",
      "5.53644534184e-12\n",
      "0.01\n",
      "0.01\n",
      "1.87291366533e-16\n",
      "[15, 6553.5, array([  0.00000000e+00,   0.00000000e+00,   1.62928076e+10,\n",
      "         0.00000000e+00,   0.00000000e+00,   4.97258679e+06])]\n",
      "0.01\n",
      "0.01\n",
      "8.90187819904e-11\n",
      "0.01\n",
      "0.01\n",
      "1.87289956435e-16\n",
      "[16, 13107.1, array([  0.00000000e+00,   0.00000000e+00,   6.51587662e+10,\n",
      "         0.00000000e+00,   0.00000000e+00,   9.94524845e+06])]\n",
      "0.01\n",
      "0.01\n",
      "1.45250466777e-09\n",
      "0.01\n",
      "0.01\n",
      "0.0\n",
      "[17, 26214.300000000003, array([  0.00000000e+00,   0.00000000e+00,   2.60421152e+11,\n",
      "         0.00000000e+00,   0.00000000e+00,   1.98905718e+07])]\n"
     ]
    }
   ],
   "source": [
    "for ind in range(1000): \n",
    "    \n",
    "    check=0\n",
    "    vartmp=var\n",
    "    diff=mylib.equation(vartmp,t)\n",
    "    k1=h*diff\n",
    "    vartmp = var + a1*k1\n",
    "\n",
    "    diff=mylib.equation(vartmp,t)\n",
    "    k2=h*diff\n",
    "    vartmp = var + b1*k1 + b2*k2\n",
    "\n",
    "    diff=mylib.equation(vartmp,t)\n",
    "    k3=h*diff\n",
    "    vartmp=var+c1*k1+c2*k2+c3*k3\n",
    "\n",
    "    diff=mylib.equation(vartmp,t)\n",
    "    k4=h*diff\n",
    "    vartmp=var+d1*k1+d2*k2+d3*k3+d4*k4\n",
    "\n",
    "    diff=mylib.equation(vartmp,t)\n",
    "    k5=h*diff\n",
    "    vartmp=var+e1*k1+e2*k2+e3*k3+e4*k4+e5*k5\n",
    "\n",
    "    diff=mylib.equation(vartmp,t)\n",
    "    k6=h*diff\n",
    "    #print(vartmp)\n",
    "    #print(diff)\n",
    "    y  = var  + x1*k1  + x2*k2  + x3*k3  + x4*k4  + x5*k5 ;\n",
    "    z  = var  + z1*k1  + z2*k2  + z3*k3  + z4*k4  + z5*k5  + z6*k6 ;\n",
    "    #print(y)\n",
    "    #print(z)\n",
    "    for i in np.arange(6):\n",
    "        if var[i]==0 and y[i]==0:\n",
    "            err=errmin\n",
    "        elif var[i]<1e3:\n",
    "            err= np.abs(y[i]  - z [i])\n",
    "        else:\n",
    "            err= np.abs(y[i]  - z [i])/np.abs(y[i]) \n",
    "        print(err)\n",
    "        if err>errmax:\n",
    "            check=1\n",
    "        elif err<errmin and check!=1:\n",
    "            check=-1\n",
    "\n",
    "\n",
    "    if check==1:\n",
    "        h=h/2\n",
    "    elif check==-1:\n",
    "        t=t+h\n",
    "        var=y\n",
    "        h=h*2\n",
    "        print([ind,t,var])\n",
    "        mytime.append(t)\n",
    "        myvar.append(var)\n",
    "    else:\n",
    "        t=t+h\n",
    "        var=y\n",
    "        print([ind,t,var])\n",
    "        mytime.append(t)\n",
    "        myvar.append(var)\n",
    "    if var[5]>1e7:\n",
    "        break\n"
   ]
  },
  {
   "cell_type": "code",
   "execution_count": 131,
   "metadata": {
    "collapsed": true
   },
   "outputs": [],
   "source": [
    "vz3=[]\n",
    "vx3=[]\n",
    "c=3e8\n",
    "for i in range(len(myvar)):\n",
    "    vz3.append(myvar[i][5]/mylib.sail_mass*np.sqrt(1/(1+(myvar[i][5]**2)/mylib.sail_mass**2/c**2)))\n",
    "    vx3.append(myvar[i][3]/mylib.sail_mass*np.sqrt(1/(1+(myvar[i][3]**2)/mylib.sail_mass**2/c**2)))\n",
    "vx3=np.array(vx3)\n",
    "vz3=np.array(vz3)"
   ]
  },
  {
   "cell_type": "code",
   "execution_count": 132,
   "metadata": {},
   "outputs": [],
   "source": [
    "mytime3=mytime"
   ]
  },
  {
   "cell_type": "code",
   "execution_count": 133,
   "metadata": {},
   "outputs": [
    {
     "data": {
      "image/png": "[encoded data removed]",
      "text/plain": [
       "<matplotlib.figure.Figure at 0x1abae6b10b8>"
      ]
     },
     "metadata": {
      "needs_background": "light"
     },
     "output_type": "display_data"
    }
   ],
   "source": [
    "import matplotlib.pyplot as plt\n",
    "plt.loglog(mytime0,np.abs(vz1[0:18]-vz[0:18]),label='x perturbed by $10^{-8}$m/s')\n",
    "plt.loglog(mytime0,np.abs(vz2-vz[0:18]),label='y perturbed by $10^{-8}$m/s')\n",
    "plt.loglog(mytime3,np.abs(vz3-vz[0:18]),label='$\\sigma _p$ perturbed by $10^{-4}$m')\n",
    "plt.xlabel('time(s)')\n",
    "plt.ylabel('velocity difference(absolute value)(m/s)')\n",
    "plt.legend()\n",
    "plt.savefig('pert.png')\n",
    "#plt.xlim(0,1000)"
   ]
  },
  {
   "cell_type": "code",
   "execution_count": 121,
   "metadata": {},
   "outputs": [
    {
     "data": {
      "image/png": "[encoded data removed]",
      "text/plain": [
       "<matplotlib.figure.Figure at 0x1abace08978>"
      ]
     },
     "metadata": {
      "needs_background": "light"
     },
     "output_type": "display_data"
    }
   ],
   "source": [
    "import matplotlib.pyplot as plt\n",
    "plt.semilogx(mytime0,(vx1/vz1-np.array(vx)/np.array(vz))[0:18],label='x perturbed by $10^{-8}$')\n",
    "plt.semilogx(mytime0,(vx2/vz2-np.array(vx[0:18])/np.array(vz[0:18]))[0:18],label='y perturbed by $10^{-8}$')\n",
    "\n",
    "plt.xlabel('time(s)')\n",
    "plt.ylabel('angle deviation')\n",
    "plt.legend()\n",
    "plt.savefig('pertang.png')\n",
    "#plt.xlim(0,1000)"
   ]
  },
  {
   "cell_type": "code",
   "execution_count": 122,
   "metadata": {},
   "outputs": [],
   "source": [
    "intpvz=interp1d(mytime0,vz2,'cubic')"
   ]
  },
  {
   "cell_type": "code",
   "execution_count": 123,
   "metadata": {
    "collapsed": true
   },
   "outputs": [],
   "source": [
    "intpvx=interp1d(mytime0,vx2,'cubic')"
   ]
  },
  {
   "cell_type": "code",
   "execution_count": 124,
   "metadata": {},
   "outputs": [
    {
     "data": {
      "text/plain": [
       "(-0.20391663908958435, array(0.0), 0.0)"
      ]
     },
     "execution_count": 124,
     "metadata": {},
     "output_type": "execute_result"
    }
   ],
   "source": [
    "intpvz(819.1)-60860120.670187,intpvx(819.1),intpvx(819.1)/intpvz(819.1)"
   ]
  },
  {
   "cell_type": "code",
   "execution_count": 83,
   "metadata": {},
   "outputs": [
    {
     "data": {
      "text/plain": [
       "(array(60860120.670187), array(0.0))"
      ]
     },
     "execution_count": 83,
     "metadata": {},
     "output_type": "execute_result"
    }
   ],
   "source": [
    "intpvz(819.1),intpvx(819.1)"
   ]
  }
 ],
 "metadata": {
  "kernelspec": {
   "display_name": "Python 3",
   "language": "python",
   "name": "python3"
  },
  "language_info": {
   "codemirror_mode": {
    "name": "ipython",
    "version": 3
   },
   "file_extension": ".py",
   "mimetype": "text/x-python",
   "name": "python",
   "nbconvert_exporter": "python",
   "pygments_lexer": "ipython3",
   "version": "3.6.3"
  }
 },
 "nbformat": 4,
 "nbformat_minor": 2
}
