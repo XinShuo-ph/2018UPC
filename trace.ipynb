{
 "cells": [
  {
   "cell_type": "code",
   "execution_count": 249,
   "metadata": {},
   "outputs": [],
   "source": [
    "import numpy as np\n",
    "import mylib \n",
    "from scipy.integrate import odeint\n",
    "mylib.sail_mass=0.01\n",
    "mylib.alpha=0\n",
    "mylib.sigp=1.25\n",
    "mylib.S=10\n",
    "mylib.sigb=1.1e-8"
   ]
  },
  {
   "cell_type": "code",
   "execution_count": 250,
   "metadata": {},
   "outputs": [
    {
     "name": "stdout",
     "output_type": "stream",
     "text": [
      "0.01\n",
      "0\n",
      "1.25\n",
      "10\n",
      "1.1e-08\n"
     ]
    }
   ],
   "source": [
    "print(mylib.sail_mass)\n",
    "print(mylib.alpha)\n",
    "print(mylib.sigp)\n",
    "print(mylib.S)\n",
    "print(mylib.sigb)"
   ]
  },
  {
   "cell_type": "code",
   "execution_count": 251,
   "metadata": {
    "collapsed": true
   },
   "outputs": [],
   "source": [
    "a1 = 1.0 / 4.0;\n",
    "b1 = 3.0 / 32.0;\n",
    "b2 = 9.0 / 32.0;\n",
    "c1 = 1932.0 / 2197.0;\n",
    "c2 = -7200.0 / 2197.0;\n",
    "c3 = 7296.0 / 2197.0;\n",
    "d1 = 439.0 / 216.0;\n",
    "d2 = -8.0;\n",
    "d3 = 3680.0 / 513.0;\n",
    "d4 = -845.0 / 4104.0;\n",
    "e1 = -8.0 / 27.0;\n",
    "e2 = 2.0;\n",
    "e3 = -3544.0 / 2565.0;\n",
    "e4 = 1859.0 / 4104.0;\n",
    "e5 = -11.0 / 40.0;\n",
    "x1 = 25.0 / 216.0;\n",
    "x2 = 0.0;\n",
    "x3 = 1408.0 / 2565.0;\n",
    "x4 = 2197.0 / 4104.0;\n",
    "x5 = -1.0 / 5.0;\n",
    "z1 = 16.0 / 135.0;\n",
    "z2 = 0.0;\n",
    "z3 = 6656.0 / 12825.0;\n",
    "z4 = 28561.0 / 56430.0;\n",
    "z5 = -9.0 / 50.0;\n",
    "z6 = 2.0 / 55.0;"
   ]
  },
  {
   "cell_type": "code",
   "execution_count": 252,
   "metadata": {
    "collapsed": true
   },
   "outputs": [],
   "source": [
    "var0=[0.,0,0.,0.,0.,1.]"
   ]
  },
  {
   "cell_type": "code",
   "execution_count": 253,
   "metadata": {},
   "outputs": [
    {
     "data": {
      "text/plain": [
       "array([  0.00000000e+00,   0.00000000e+00,   1.00000000e+00,\n",
       "         1.59902812e-05,   0.00000000e+00,   7.58788939e+02])"
      ]
     },
     "execution_count": 253,
     "metadata": {},
     "output_type": "execute_result"
    }
   ],
   "source": [
    "h=1e-1\n",
    "errmax=1e-1\n",
    "errmin=1e-2\n",
    "var=var0\n",
    "t=0\n",
    "mytime=[]\n",
    "myvar=[]\n",
    "mylib.equation(var0,0)"
   ]
  },
  {
   "cell_type": "code",
   "execution_count": 254,
   "metadata": {},
   "outputs": [
    {
     "name": "stdout",
     "output_type": "stream",
     "text": [
      "2.64246851652e-09\n",
      "0.01\n",
      "5.98943117325e-12\n",
      "9.4446066338e-08\n",
      "0.01\n",
      "9.7998054116e-11\n",
      "[0, 0.1, array([  7.07703295e-08,   0.00000000e+00,   3.89394469e+00,\n",
      "         2.05791146e-06,   0.00000000e+00,   7.68788939e+01])]\n",
      "3.82158720256e-09\n",
      "0.01\n",
      "4.23412416239e-11\n",
      "1.55504774279e-07\n",
      "0.01\n",
      "1.09935172077e-10\n",
      "[1, 0.30000000000000004, array([  7.72761185e-07,   0.00000000e+00,   3.44455022e+01,\n",
      "         5.28572687e-06,   0.00000000e+00,   2.28636682e+02])]\n",
      "1.10435195352e-08\n",
      "0.01\n",
      "3.86677356801e-10\n",
      "3.29795104327e-07\n",
      "0.01\n",
      "2.44199327426e-10\n",
      "[2, 0.7000000000000001, array([  3.89383612e-06,   0.00000000e+00,   1.86603290e+02,\n",
      "         1.20857595e-05,   0.00000000e+00,   5.32152257e+02])]\n",
      "3.44410017975e-08\n",
      "0.01\n",
      "6.26528162684e-10\n",
      "6.18154975526e-07\n",
      "0.01\n",
      "3.1683157431e-08\n",
      "[3, 1.5, array([  1.53111007e-05,   0.00000000e+00,   8.55137557e+02,\n",
      "         1.69323239e-05,   0.00000000e+00,   1.13918341e+03])]\n"
     ]
    },
    {
     "name": "stderr",
     "output_type": "stream",
     "text": [
      "C:\\Users\\HP\\Documents\\GitHub\\2018UPC\\2018UPC\\mylib.py:74: RuntimeWarning: invalid value encountered in arccos\n",
      "  beta1 = np.arccos(beta1/(np.dot(b_xyz,b_xyz)))\n"
     ]
    },
    {
     "name": "stdout",
     "output_type": "stream",
     "text": [
      "1.08334039278e-07\n",
      "0.01\n",
      "1.15847342386e-07\n",
      "nan\n",
      "0.01\n",
      "nan\n",
      "[4, 3.1, array([  5.23334392e-05,   0.00000000e+00,   3.64908086e+03,\n",
      "         2.68629442e-05,   0.00000000e+00,   2.35324572e+03])]\n",
      "2.02281740804e-06\n",
      "0.01\n",
      "0.0\n",
      "1.49412649457e-06\n",
      "0.01\n",
      "4.86358413065e-11\n",
      "[5, 6.300000000000001, array([  1.45037585e-04,   0.00000000e+00,   1.50644666e+04,\n",
      "         5.42552632e-05,   0.00000000e+00,   4.78137040e+03])]\n",
      "5.90638619187e-06\n",
      "0.01\n",
      "2.03686798764e-11\n",
      "2.24776654768e-06\n",
      "0.01\n",
      "3.97720409141e-10\n",
      "[6, 12.700000000000001, array([  5.45874052e-04,   0.00000000e+00,   6.12052357e+04,\n",
      "         4.21631367e-05,   0.00000000e+00,   9.63761996e+03])]\n",
      "2.36255336331e-05\n",
      "0.01\n",
      "2.42700458604e-09\n",
      "4.49553142693e-06\n",
      "0.01\n",
      "5.45243152198e-09\n",
      "[7, 25.5, array([  1.29997335e-03,   0.00000000e+00,   2.46726771e+05,\n",
      "         1.79789022e-05,   0.00000000e+00,   1.93501209e+04])]\n",
      "0.000116281121211\n",
      "0.01\n",
      "2.03791870109e-08\n",
      "1.25169363914e-06\n",
      "0.01\n",
      "5.30374959797e-08\n",
      "[8, 51.1, array([  5.94689792e-03,   0.00000000e+00,   9.90729781e+05,\n",
      "         4.43385348e-04,   0.00000000e+00,   3.87751179e+04])]\n",
      "0.000589144355615\n",
      "0.01\n",
      "1.48014952891e-06\n",
      "2.11207523288e-05\n",
      "0.01\n",
      "4.24797475081e-06\n",
      "[9, 102.30000000000001, array([  3.63162848e-02,   0.00000000e+00,   3.97055057e+06,\n",
      "         9.97715622e-04,   0.00000000e+00,   7.76265327e+04])]\n",
      "0.000119555962367\n",
      "0.01\n",
      "6.89956184718e-05\n",
      "5.80496407944e-05\n",
      "0.01\n",
      "0.000129525904559\n",
      "[10, 204.70000000000002, array([  2.30293924e-01,   0.00000000e+00,   1.58948669e+07,\n",
      "         2.71707179e-03,   0.00000000e+00,   1.55490899e+05])]\n",
      "0.00061645564801\n",
      "0.01\n",
      "0.000296295578857\n",
      "0.000139498383102\n",
      "0.01\n",
      "0.00105149868972\n",
      "[11, 409.5, array([  1.03733350e+00,   0.00000000e+00,   6.32902811e+07,\n",
      "         5.65513555e-03,   0.00000000e+00,   3.03804981e+05])]\n",
      "0.0170409032134\n",
      "0.01\n",
      "0.00178475733325\n",
      "0.000114187378644\n",
      "0.01\n",
      "0.010026959964\n",
      "[12, 819.1, array([  3.94373626e+00,   0.00000000e+00,   2.30155130e+08,\n",
      "         7.44228621e-03,   0.00000000e+00,   4.57719986e+05])]\n",
      "0.00209897588386\n",
      "0.01\n",
      "0.000143529423166\n",
      "5.67178562797e-06\n",
      "0.01\n",
      "0.000352046792937\n",
      "[13, 1638.3000000000002, array([  1.02189249e+01,   0.00000000e+00,   6.14625641e+08,\n",
      "         7.65927689e-03,   0.00000000e+00,   4.70041247e+05])]\n",
      "6.29336334157e-08\n",
      "0.01\n",
      "2.15664015196e-09\n",
      "7.68232526205e-11\n",
      "0.01\n",
      "7.75570675037e-09\n",
      "[14, 3276.7000000000003, array([  2.27678894e+01,   0.00000000e+00,   1.38474052e+09,\n",
      "         7.65928009e-03,   0.00000000e+00,   4.70041399e+05])]\n",
      "nan\n",
      "0.01\n",
      "nan\n",
      "nan\n",
      "0.01\n",
      "nan\n",
      "[15, 6553.5, array([ nan,   0.,  nan,  nan,   0.,  nan])]\n",
      "nan\n",
      "0.01\n",
      "nan\n",
      "nan\n",
      "0.01\n",
      "nan\n",
      "[16, 9830.3, array([ nan,   0.,  nan,  nan,   0.,  nan])]\n",
      "nan\n",
      "0.01\n",
      "nan\n",
      "nan\n",
      "0.01\n",
      "nan\n",
      "[17, 13107.099999999999, array([ nan,   0.,  nan,  nan,   0.,  nan])]\n",
      "nan\n",
      "0.01\n",
      "nan\n",
      "nan\n",
      "0.01\n",
      "nan\n",
      "[18, 16383.899999999998, array([ nan,   0.,  nan,  nan,   0.,  nan])]\n",
      "nan\n",
      "0.01\n",
      "nan\n",
      "nan\n",
      "0.01\n",
      "nan\n",
      "[19, 19660.699999999997, array([ nan,   0.,  nan,  nan,   0.,  nan])]\n",
      "nan\n",
      "0.01\n",
      "nan\n",
      "nan\n",
      "0.01\n",
      "nan\n",
      "[20, 22937.499999999996, array([ nan,   0.,  nan,  nan,   0.,  nan])]\n"
     ]
    }
   ],
   "source": [
    "for ind in range(1000): \n",
    "    \n",
    "    check=0\n",
    "    vartmp=var\n",
    "    diff=mylib.equation(vartmp,t)\n",
    "    k1=h*diff\n",
    "    vartmp = var + a1*k1\n",
    "\n",
    "    diff=mylib.equation(vartmp,t)\n",
    "    k2=h*diff\n",
    "    vartmp = var + b1*k1 + b2*k2\n",
    "\n",
    "    diff=mylib.equation(vartmp,t)\n",
    "    k3=h*diff\n",
    "    vartmp=var+c1*k1+c2*k2+c3*k3\n",
    "\n",
    "    diff=mylib.equation(vartmp,t)\n",
    "    k4=h*diff\n",
    "    vartmp=var+d1*k1+d2*k2+d3*k3+d4*k4\n",
    "\n",
    "    diff=mylib.equation(vartmp,t)\n",
    "    k5=h*diff\n",
    "    vartmp=var+e1*k1+e2*k2+e3*k3+e4*k4+e5*k5\n",
    "\n",
    "    diff=mylib.equation(vartmp,t)\n",
    "    k6=h*diff\n",
    "    #print(vartmp)\n",
    "    #print(diff)\n",
    "    y  = var  + x1*k1  + x2*k2  + x3*k3  + x4*k4  + x5*k5 ;\n",
    "    z  = var  + z1*k1  + z2*k2  + z3*k3  + z4*k4  + z5*k5  + z6*k6 ;\n",
    "    #print(y)\n",
    "    #print(z)\n",
    "    for i in np.arange(6):\n",
    "        if var[i]==0 and y[i]==0:\n",
    "            err=errmin\n",
    "        elif var[i]<1e3:\n",
    "            err= np.abs(y[i]  - z [i])\n",
    "        else:\n",
    "            err= np.abs(y[i]  - z [i])/np.abs(y[i]) \n",
    "        print(err)\n",
    "        if err>errmax:\n",
    "            check=1\n",
    "        elif err<errmin and check!=1:\n",
    "            check=-1\n",
    "\n",
    "\n",
    "    if check==1:\n",
    "        h=h/2\n",
    "    elif check==-1:\n",
    "        t=t+h\n",
    "        var=y\n",
    "        h=h*2\n",
    "        print([ind,t,var])\n",
    "        mytime.append(t)\n",
    "        myvar.append(var)\n",
    "    else:\n",
    "        t=t+h\n",
    "        var=y\n",
    "        print([ind,t,var])\n",
    "        mytime.append(t)\n",
    "        myvar.append(var)\n",
    "    if var[5]>1e7:\n",
    "        break\n",
    "    if t>2e4:\n",
    "        break"
   ]
  },
  {
   "cell_type": "code",
   "execution_count": 255,
   "metadata": {
    "collapsed": true
   },
   "outputs": [],
   "source": [
    "vz6=[]\n",
    "vx6=[]\n",
    "c=3e8\n",
    "for i in range(len(myvar)):\n",
    "    vz6.append(myvar[i][5]/mylib.sail_mass*np.sqrt(1/(1+(myvar[i][5]**2)/mylib.sail_mass**2/c**2)))\n",
    "    vx6.append(myvar[i][3]/mylib.sail_mass*np.sqrt(1/(1+(myvar[i][3]**2)/mylib.sail_mass**2/c**2)))\n",
    "vx6=np.array(vx6)\n",
    "vz6=np.array(vz6)"
   ]
  },
  {
   "cell_type": "code",
   "execution_count": 256,
   "metadata": {},
   "outputs": [],
   "source": [
    "mytime6=mytime"
   ]
  },
  {
   "cell_type": "code",
   "execution_count": 261,
   "metadata": {},
   "outputs": [
    {
     "data": {
      "image/png": "[encoded data removed]",
      "text/plain": [
       "<matplotlib.figure.Figure at 0x1abaceb17f0>"
      ]
     },
     "metadata": {
      "needs_background": "light"
     },
     "output_type": "display_data"
    }
   ],
   "source": [
    "import matplotlib.pyplot as plt\n",
    "plt.figure(figsize=[8,4])\n",
    "plt.loglog(mytime0,np.abs(vz1[0:18]-vz[0:18]),label='x perturbed by $10^{-8}$m/s')\n",
    "plt.loglog(mytime0,np.abs(vz2-vz[0:18]),label='y perturbed by $10^{-8}$m/s')\n",
    "plt.loglog(mytime3,np.abs(vz3-vz[0:18]),label='$\\sigma _p$ perturbed by $10^{-4}$m')\n",
    "plt.loglog(mytime4[0:18],np.abs(vz4[0:18]-vz[0:18]),label='$\\\\alpha$ perturbed by $5 \\\\times 10^{-8}$m')\n",
    "plt.loglog(mytime5[0:18],np.abs(vz5[0:18]-vz[0:18]),label='$S$ perturbed by $ 10^{-5}$m')\n",
    "plt.loglog(mytime6[0:18],np.abs(vz6[0:18]-vz[0:18]),label='$\\sigma_b$ perturbed by $ 10^{-8}$m')\n",
    "plt.xlabel('time(s)')\n",
    "plt.ylabel('velocity difference(absolute value)(m/s)')\n",
    "plt.legend()\n",
    "plt.savefig('pert.png')\n",
    "#plt.xlim(0,1000)"
   ]
  },
  {
   "cell_type": "code",
   "execution_count": 278,
   "metadata": {},
   "outputs": [
    {
     "data": {
      "image/png": "[encoded data removed]",
      "text/plain": [
       "<matplotlib.figure.Figure at 0x1abad184f28>"
      ]
     },
     "metadata": {
      "needs_background": "light"
     },
     "output_type": "display_data"
    }
   ],
   "source": [
    "import matplotlib.pyplot as plt\n",
    "plt.figure(figsize=[8,4])\n",
    "plt.semilogx(mytime0,(vx1/vz1-np.array(vx)/np.array(vz))[0:18],label='x perturbed by $10^{-8}$')\n",
    "plt.semilogx(mytime0,(vx2/vz2-np.array(vx[0:18])/np.array(vz[0:18]))[0:18],label='y perturbed by $10^{-8}$')\n",
    "plt.semilogx(mytime3,(vx3/vz3-np.array(vx[0:18])/np.array(vz[0:18]))[0:18],label='$\\sigma_p$ perturbed by $10^{-8}$')\n",
    "plt.semilogx(mytime4[0:18],(vx4[0:18]/vz4[0:18]-np.array(vx[0:18])/np.array(vz[0:18]))[0:18],label='$\\\\alpha$ perturbed by $5 \\\\times 10^{-8}$')\n",
    "\n",
    "plt.semilogx(mytime5[0:18],(vx5[0:18]/vz5[0:18]-np.array(vx[0:18])/np.array(vz[0:18]))[0:18],label='$S$ perturbed by $10^{-5}$')\n",
    "plt.semilogx(mytime6[0:18],(vx6[0:18]/vz6[0:18]-np.array(vx[0:18])/np.array(vz[0:18]))[0:18],label='$\\sigma_b$ perturbed by $10^{-8}$')\n",
    "\n",
    "plt.xlabel('time(s)')\n",
    "plt.ylabel('angle deviation')\n",
    "plt.legend()\n",
    "plt.savefig('pertang.png')\n",
    "#plt.xlim(0,1000)"
   ]
  },
  {
   "cell_type": "code",
   "execution_count": 275,
   "metadata": {},
   "outputs": [],
   "source": [
    "intpvz=interp1d(mytime6[0:15],vz6[0:15],'cubic')"
   ]
  },
  {
   "cell_type": "code",
   "execution_count": 276,
   "metadata": {
    "collapsed": true
   },
   "outputs": [],
   "source": [
    "intpvx=interp1d(mytime6[0:15],vx6[0:15],'cubic')"
   ]
  },
  {
   "cell_type": "code",
   "execution_count": 277,
   "metadata": {},
   "outputs": [
    {
     "data": {
      "text/plain": [
       "(-15611752.097690716, array(0.7442286205279279), 1.8757424921569835e-08)"
      ]
     },
     "execution_count": 277,
     "metadata": {},
     "output_type": "execute_result"
    }
   ],
   "source": [
    "intpvz(819.1)-60860120.670187,intpvx(819.1),intpvx(400)/intpvz(400)"
   ]
  },
  {
   "cell_type": "code",
   "execution_count": 83,
   "metadata": {
    "scrolled": true
   },
   "outputs": [
    {
     "data": {
      "text/plain": [
       "(array(60860120.670187), array(0.0))"
      ]
     },
     "execution_count": 83,
     "metadata": {},
     "output_type": "execute_result"
    }
   ],
   "source": [
    "intpvz(819.1),intpvx(819.1)"
   ]
  },
  {
   "cell_type": "code",
   "execution_count": 274,
   "metadata": {},
   "outputs": [
    {
     "data": {
      "text/plain": [
       "(array([  7.68788938e+03,   2.28636681e+04,   5.32152249e+04,\n",
       "          1.13918333e+05,   2.35324500e+05,   4.78136432e+05,\n",
       "          9.63757023e+05,   1.93497184e+06,   3.87718795e+06,\n",
       "          7.76005587e+06,   1.55282465e+07,   3.02259060e+07,\n",
       "          4.52483686e+07,   4.64375882e+07,   4.64376028e+07,\n",
       "                     nan,              nan,              nan,\n",
       "                     nan,              nan,              nan]),\n",
       " [0.1,\n",
       "  0.30000000000000004,\n",
       "  0.7000000000000001,\n",
       "  1.5,\n",
       "  3.1,\n",
       "  6.300000000000001,\n",
       "  12.700000000000001,\n",
       "  25.5,\n",
       "  51.1,\n",
       "  102.30000000000001,\n",
       "  204.70000000000002,\n",
       "  409.5,\n",
       "  819.1,\n",
       "  1638.3000000000002,\n",
       "  3276.7000000000003,\n",
       "  6553.5,\n",
       "  9830.3,\n",
       "  13107.099999999999,\n",
       "  16383.899999999998,\n",
       "  19660.699999999997,\n",
       "  22937.499999999996])"
      ]
     },
     "execution_count": 274,
     "metadata": {},
     "output_type": "execute_result"
    }
   ],
   "source": [
    "vz6,mytime6"
   ]
  },
  {
   "cell_type": "code",
   "execution_count": null,
   "metadata": {
    "collapsed": true
   },
   "outputs": [],
   "source": []
  },
  {
   "cell_type": "code",
   "execution_count": null,
   "metadata": {
    "collapsed": true
   },
   "outputs": [],
   "source": []
  }
 ],
 "metadata": {
  "kernelspec": {
   "display_name": "Python 3",
   "language": "python",
   "name": "python3"
  },
  "language_info": {
   "codemirror_mode": {
    "name": "ipython",
    "version": 3
   },
   "file_extension": ".py",
   "mimetype": "text/x-python",
   "name": "python",
   "nbconvert_exporter": "python",
   "pygments_lexer": "ipython3",
   "version": "3.6.3"
  }
 },
 "nbformat": 4,
 "nbformat_minor": 2
}
