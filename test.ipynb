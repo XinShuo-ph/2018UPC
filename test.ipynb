{
 "cells": [
  {
   "cell_type": "code",
   "execution_count": 1,
   "metadata": {
    "collapsed": true
   },
   "outputs": [],
   "source": [
    "import numpy as np\n",
    "\n",
    "phi0=0; sigp=1; sigb=0.01;\n",
    "sail_mass=1e-2\n",
    "\n",
    "#define parameter:\n",
    "pi = np.pi\n",
    "c = 3e8 #Light Speed\n",
    "P = 50000000000 #Laser array power\n",
    "S = 10 #area of space craft\n",
    "R = np.sqrt(S/pi)\n",
    "alpha = np.pi/6 #angle of space craft\n",
    "h = R*np.tan(alpha) #height of space craft\n",
    "LaserDist_r = np.linspace(0,1-sigp/R,5)\n",
    "LaserDist_r = LaserDist_r*R\n",
    "LaserDis_theta = np.linspace(0,1,6)\n",
    "LaserDis_theta = LaserDis_theta*2*pi\n",
    "N = len(LaserDis_theta) * len(LaserDist_r) #Laser beam number\n",
    "\n",
    "##define caculating function:\n",
    "def PowerFlux(r,beta,sigma):\n",
    "    P0 = P/N\n",
    "    total_flux = 0\n",
    "    r_m,theta_m = np.meshgrid(LaserDist_r,LaserDis_theta)\n",
    "    distance = np.sqrt(r**2+r_m**2-2*r*r_m*np.cos(beta-theta_m))\n",
    "    flux = P0*np.exp(-distance**2/((2*sigma)**2)/np.sqrt(2*pi*sigma**2))\n",
    "    total_flux = np.sum(np.sum(flux))\n",
    "    return total_flux\n",
    "\n",
    "def n(alpha,phi,gamma):\n",
    "    nx = np.cos(alpha)*np.sin(phi)+np.sin(alpha)*np.cos(gamma)*np.cos(phi)\n",
    "    ny = np.sin(alpha)*np.sin(gamma)\n",
    "    nz = np.cos(alpha)*np.cos(phi)-np.sin(alpha)*np.cos(gamma)*np.sin(phi)\n",
    "    vect = np.array([nx,ny,nz])\n",
    "    return vect\n",
    "\n",
    "def b(sigma):\n",
    "    bx = 0 + np.random.normal(0,sigma,1)\n",
    "    bx = bx[0]\n",
    "    by = 0 + np.random.normal(0,sigma,1)\n",
    "    by = by[0]\n",
    "    bz = 1 + np.random.normal(0,sigma,1)\n",
    "    bz = bz[0]\n",
    "    len_b = np.sqrt(bx**2 + by**2 + bz**2)\n",
    "    vec_b = np.array([bx,by,bz])/len_b\n",
    "    return vec_b"
   ]
  },
  {
   "cell_type": "code",
   "execution_count": 169,
   "metadata": {},
   "outputs": [
    {
     "data": {
      "text/plain": [
       "array([  2.08601954e-01,  -1.71083110e-02,   2.06929326e+01])"
      ]
     },
     "execution_count": 169,
     "metadata": {},
     "output_type": "execute_result"
    }
   ],
   "source": [
    "x=0\n",
    "y=-0.4\n",
    "z=0\n",
    "phi=0\n",
    "sigma_P=0.1;sigma_b=0.01\n",
    "\n",
    "int_rho = np.linspace(0,R,100)\n",
    "delta_rho = int_rho[1] - int_rho[0]\n",
    "int_gamma = np.linspace(0,2*pi,100)\n",
    "delta_gamma = int_gamma[1] - int_gamma[0]\n",
    "total_force = np.array([0,0,0])\n",
    "Gamma,Rho = np.meshgrid(int_gamma,int_rho)\n",
    "x_bias = x + Rho*np.sin(Gamma)\n",
    "y_bias = y + Rho*np.cos(alpha)*np.cos(phi)- (h/2-Rho*np.tan(alpha))*np.sin(phi)\n",
    "r_int = np.sqrt(x_bias**2 + y_bias**2)\n",
    "theta_int = pi/2*np.ones((len(x_bias),len(x_bias)))\n",
    "P_xyz = np.zeros((len(r_int),len(theta_int)))\n",
    "for mm in range(len(int_rho)):\n",
    "    for nn in range(len(int_gamma)):\n",
    "        if x_bias[mm,nn] != 0:\n",
    "            theta_int[mm,nn] = np.arctan(y_bias[mm,nn]/x_bias[mm,nn])\n",
    "        P_xyz[mm,nn] = PowerFlux(r_int[mm,nn],theta_int[mm,nn],sigma_P)\n",
    "n_xyz = n(alpha,phi,Gamma)\n",
    "b_xyz = b(sigma_b)\n",
    "integral_index = 2*P_xyz/c    \n",
    "integral_index = integral_index*np.tensordot(n_xyz,b_xyz,axes=[[0],[0]])*Rho*delta_rho*delta_gamma/np.cos(alpha)\n",
    "force = integral_index * n(alpha,phi,Gamma)\n",
    "total_force = np.sum(np.sum(force,axis = 1),axis = 1)\n",
    "\n",
    "total_force"
   ]
  },
  {
   "cell_type": "code",
   "execution_count": 160,
   "metadata": {},
   "outputs": [
    {
     "data": {
      "text/plain": [
       "array([[  0.00000000e+00,   0.00000000e+00,   0.00000000e+00, ...,\n",
       "         -0.00000000e+00,  -0.00000000e+00,  -0.00000000e+00],\n",
       "       [  0.00000000e+00,   1.50937352e-06,   3.09447747e-06, ...,\n",
       "         -3.09917688e-06,  -1.51052146e-06,  -5.67261257e-21],\n",
       "       [  0.00000000e+00,   2.68025448e-06,   5.64641741e-06, ...,\n",
       "         -5.65499232e-06,  -2.68229293e-06,  -9.79452015e-21],\n",
       "       ..., \n",
       "       [  0.00000000e+00,   9.93069665e-64,   1.06200125e-62, ...,\n",
       "         -1.06361405e-62,  -9.93824937e-64,  -6.15320608e-80],\n",
       "       [  0.00000000e+00,   2.65760979e-65,   2.78359625e-64, ...,\n",
       "         -2.78782354e-64,  -2.65963102e-65,  -1.59828812e-81],\n",
       "       [  0.00000000e+00,   6.77240941e-67,   6.94209004e-66, ...,\n",
       "         -6.95263262e-66,  -6.77756012e-67,  -3.95423383e-83]])"
      ]
     },
     "execution_count": 160,
     "metadata": {},
     "output_type": "execute_result"
    }
   ],
   "source": [
    "force[1]"
   ]
  },
  {
   "cell_type": "code",
   "execution_count": 161,
   "metadata": {},
   "outputs": [
    {
     "data": {
      "text/plain": [
       "array([ 0.0054027 , -0.00614621,  3.31108651])"
      ]
     },
     "execution_count": 161,
     "metadata": {},
     "output_type": "execute_result"
    }
   ],
   "source": [
    "total_force"
   ]
  },
  {
   "cell_type": "code",
   "execution_count": 81,
   "metadata": {
    "collapsed": true
   },
   "outputs": [],
   "source": [
    "import matplotlib.pyplot as plt"
   ]
  },
  {
   "cell_type": "code",
   "execution_count": 82,
   "metadata": {},
   "outputs": [
    {
     "data": {
      "text/plain": [
       "<matplotlib.contour.QuadContourSet at 0x21232275208>"
      ]
     },
     "execution_count": 82,
     "metadata": {},
     "output_type": "execute_result"
    },
    {
     "data": {
      "image/png": "[encoded data removed]",
      "text/plain": [
       "<matplotlib.figure.Figure at 0x212321c5898>"
      ]
     },
     "metadata": {
      "needs_background": "light"
     },
     "output_type": "display_data"
    }
   ],
   "source": [
    "plt.contourf(force[1])"
   ]
  },
  {
   "cell_type": "code",
   "execution_count": 16,
   "metadata": {},
   "outputs": [
    {
     "data": {
      "text/plain": [
       "array([[  0.00000000e+00,   0.00000000e+00,   0.00000000e+00, ...,\n",
       "         -0.00000000e+00,  -0.00000000e+00,  -0.00000000e+00],\n",
       "       [  0.00000000e+00,   2.13203711e-04,   4.25651710e-04, ...,\n",
       "         -4.25231160e-04,  -2.13098148e-04,  -8.23143834e-19],\n",
       "       [  0.00000000e+00,   4.26465476e-04,   8.51418129e-04, ...,\n",
       "         -8.50576917e-04,  -4.26254323e-04,  -1.64651258e-18],\n",
       "       ..., \n",
       "       [  0.00000000e+00,   1.57109348e-02,   3.13611686e-02, ...,\n",
       "         -3.13301834e-02,  -1.57031560e-02,  -6.06605276e-17],\n",
       "       [  0.00000000e+00,   1.57791291e-02,   3.14972324e-02, ...,\n",
       "         -3.14661128e-02,  -1.57713165e-02,  -6.09238682e-17],\n",
       "       [  0.00000000e+00,   1.58449688e-02,   3.16285954e-02, ...,\n",
       "         -3.15973459e-02,  -1.58371236e-02,  -6.11781178e-17]])"
      ]
     },
     "execution_count": 16,
     "metadata": {},
     "output_type": "execute_result"
    }
   ],
   "source": [
    "force[1]"
   ]
  },
  {
   "cell_type": "code",
   "execution_count": 118,
   "metadata": {
    "collapsed": true
   },
   "outputs": [],
   "source": [
    "pp=np.zeros((100,100))\n",
    "for i in np.arange(100):\n",
    "    for j in np.arange(100):\n",
    "        pp[i,j]=PowerFlux(i*R/100.,j*np.pi*2/100,0.1)"
   ]
  },
  {
   "cell_type": "code",
   "execution_count": 119,
   "metadata": {},
   "outputs": [
    {
     "data": {
      "text/plain": [
       "<matplotlib.contour.QuadContourSet at 0x21233847d30>"
      ]
     },
     "execution_count": 119,
     "metadata": {},
     "output_type": "execute_result"
    },
    {
     "data": {
      "image/png": "[encoded data removed]",
      "text/plain": [
       "<matplotlib.figure.Figure at 0x212323de198>"
      ]
     },
     "metadata": {
      "needs_background": "light"
     },
     "output_type": "display_data"
    }
   ],
   "source": [
    "plt.contourf(pp)"
   ]
  },
  {
   "cell_type": "code",
   "execution_count": 104,
   "metadata": {},
   "outputs": [],
   "source": [
    "sigma=0.1\n",
    "distance=np.zeros((100,100,6,5))\n",
    "flux=np.zeros((100,100,6,5))\n",
    "total_flux=np.zeros((100,100,6,5))\n",
    "for i in np.arange(100):\n",
    "    for j in np.arange(100):\n",
    "        r=i*R/100.\n",
    "        beta=i*np.pi*2/100\n",
    "        P0 = P/N\n",
    "        total_flux = 0\n",
    "        r_m,theta_m = np.meshgrid(LaserDist_r,LaserDis_theta)\n",
    "        distance[i,j] = np.sqrt(r**2+r_m**2-2*r*r_m*np.cos(beta-theta_m))\n",
    "        flux[i,j] = P0*np.exp(-distance[i,j]**2/((2*sigma)**2)/np.sqrt(2*pi*sigma**2))\n",
    "        #total_flux[i,j] = np.sum(np.sum(flux[i,j]))\n"
   ]
  },
  {
   "cell_type": "code",
   "execution_count": 107,
   "metadata": {},
   "outputs": [
    {
     "data": {
      "text/plain": [
       "array([[ 1.76628287,  1.5706869 ,  1.37521482,  1.17992822,  0.98493742],\n",
       "       [ 1.76628287,  1.72799522,  1.71144269,  1.71725392,  1.74520552],\n",
       "       [ 1.76628287,  1.9346509 ,  2.10780677,  2.28466211,  2.46442059],\n",
       "       [ 1.76628287,  1.92139481,  2.08341478,  2.25085153,  2.42258217],\n",
       "       [ 1.76628287,  1.7038955 ,  1.66241417,  1.64342271,  1.64769896],\n",
       "       [ 1.76628287,  1.5706869 ,  1.37521482,  1.17992822,  0.98493742]])"
      ]
     },
     "execution_count": 107,
     "metadata": {},
     "output_type": "execute_result"
    }
   ],
   "source": [
    "distance[99,0]"
   ]
  },
  {
   "cell_type": "code",
   "execution_count": 110,
   "metadata": {},
   "outputs": [
    {
     "data": {
      "text/plain": [
       "1.7841241161527712"
      ]
     },
     "execution_count": 110,
     "metadata": {},
     "output_type": "execute_result"
    }
   ],
   "source": [
    "R"
   ]
  },
  {
   "cell_type": "code",
   "execution_count": 111,
   "metadata": {},
   "outputs": [
    {
     "data": {
      "text/plain": [
       "array([[  1.00000000e+10,   1.00000000e+10,   1.00000000e+10, ...,\n",
       "          1.00000000e+10,   1.00000000e+10,   1.00000000e+10],\n",
       "       [  1.63129362e-04,   1.63129362e-04,   1.63129362e-04, ...,\n",
       "          1.63129362e-04,   1.63129362e-04,   1.63129362e-04],\n",
       "       [  7.08155375e-46,   7.08155375e-46,   7.08155375e-46, ...,\n",
       "          7.08155375e-46,   7.08155375e-46,   7.08155375e-46],\n",
       "       ..., \n",
       "       [  0.00000000e+00,   0.00000000e+00,   0.00000000e+00, ...,\n",
       "          0.00000000e+00,   0.00000000e+00,   0.00000000e+00],\n",
       "       [  0.00000000e+00,   0.00000000e+00,   0.00000000e+00, ...,\n",
       "          0.00000000e+00,   0.00000000e+00,   0.00000000e+00],\n",
       "       [  0.00000000e+00,   0.00000000e+00,   0.00000000e+00, ...,\n",
       "          0.00000000e+00,   0.00000000e+00,   0.00000000e+00]])"
      ]
     },
     "execution_count": 111,
     "metadata": {},
     "output_type": "execute_result"
    }
   ],
   "source": [
    "pp"
   ]
  },
  {
   "cell_type": "code",
   "execution_count": null,
   "metadata": {
    "collapsed": true
   },
   "outputs": [],
   "source": []
  }
 ],
 "metadata": {
  "kernelspec": {
   "display_name": "Python 3",
   "language": "python",
   "name": "python3"
  },
  "language_info": {
   "codemirror_mode": {
    "name": "ipython",
    "version": 3
   },
   "file_extension": ".py",
   "mimetype": "text/x-python",
   "name": "python",
   "nbconvert_exporter": "python",
   "pygments_lexer": "ipython3",
   "version": "3.6.3"
  }
 },
 "nbformat": 4,
 "nbformat_minor": 2
}
